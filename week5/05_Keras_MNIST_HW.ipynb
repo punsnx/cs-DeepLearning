{
  "cells": [
    {
      "cell_type": "markdown",
      "metadata": {
        "id": "aCypoSP8CScx"
      },
      "source": [
        "## Handwritten Image Detection with Keras using MNIST data\n",
        "\n",
        "In this exercise we will work with image data: specifically the famous MNIST data set.  This data set contains 70,000 images of handwritten digits in grayscale (0=black, 255 = white).  The images are 28 pixels by 28 pixels for a total of 784 pixels.  This is quite small by image standards.  Also, the images are well centered and isolated.  This makes this problem solvable with standard fully connected neural nets without too much pre-work."
      ]
    },
    {
      "cell_type": "markdown",
      "metadata": {
        "id": "261GIXrSCSc2"
      },
      "source": [
        "In the first part of this notebook, we will walk you through loading in the data, building a network, and training it.  Then it will be your turn to try different models and see if you can improve performance"
      ]
    },
    {
      "cell_type": "code",
      "execution_count": 433,
      "metadata": {
        "id": "82IaB9cXCSc2"
      },
      "outputs": [],
      "source": [
        "# Preliminaries\n",
        "\n",
        "from __future__ import print_function\n",
        "\n",
        "import keras\n",
        "from keras.datasets import mnist\n",
        "from keras.models import Sequential\n",
        "from keras.layers import Dense, Dropout\n",
        "from keras.optimizers import RMSprop,Adam\n",
        "from keras.regularizers import L1,L2,L1L2\n",
        "\n",
        "import numpy as np\n",
        "import matplotlib.pyplot as plt\n",
        "%matplotlib inline"
      ]
    },
    {
      "cell_type": "markdown",
      "metadata": {
        "collapsed": true,
        "id": "6ZwGlP-GCSc3"
      },
      "source": [
        "Let's explore the dataset a little bit"
      ]
    },
    {
      "cell_type": "code",
      "execution_count": 434,
      "metadata": {
        "id": "A2Qx2n0oCSc3"
      },
      "outputs": [],
      "source": [
        "# Load the data, shuffled and split between train and test sets (x_train and y_rain)\n",
        "(x_train, y_train), (x_test, y_test) = mnist.load_data()"
      ]
    },
    {
      "cell_type": "code",
      "execution_count": 435,
      "metadata": {
        "colab": {
          "base_uri": "https://localhost:8080/"
        },
        "id": "Ml7UFiZzCSc4",
        "outputId": "8632fb53-4fee-4820-ff33-b845dde64622"
      },
      "outputs": [
        {
          "data": {
            "text/plain": [
              "(28, 28)"
            ]
          },
          "execution_count": 435,
          "metadata": {},
          "output_type": "execute_result"
        }
      ],
      "source": [
        "x_train[0].shape"
      ]
    },
    {
      "cell_type": "code",
      "execution_count": 436,
      "metadata": {
        "colab": {
          "base_uri": "https://localhost:8080/"
        },
        "id": "tRp2xnyxCSc4",
        "outputId": "0eaa3070-d07a-4865-c2e3-991568009c32"
      },
      "outputs": [
        {
          "data": {
            "text/plain": [
              "array([[  0,   0,   0,   0,   0,   0,   0,   0,   0,   0,   0,   0,   0,\n",
              "          0,   0,   0,   0,   0,   0,   0,   0,   0,   0,   0,   0,   0,\n",
              "          0,   0],\n",
              "       [  0,   0,   0,   0,   0,   0,   0,   0,   0,   0,   0,   0,   0,\n",
              "          0,   0,   0,   0,   0,   0,   0,   0,   0,   0,   0,   0,   0,\n",
              "          0,   0],\n",
              "       [  0,   0,   0,   0,   0,   0,   0,   0,   0,   0,   0,   0,   0,\n",
              "          0,   0,   0,   0,   0,   0,   0,   0,   0,   0,   0,   0,   0,\n",
              "          0,   0],\n",
              "       [  0,   0,   0,   0,   0,   0,   0,   0,   0,   0,   0,   0,   0,\n",
              "          0,   0,   0,   0,   0,   0,   0,   0,   0,   0,   0,   0,   0,\n",
              "          0,   0],\n",
              "       [  0,   0,   0,   0,   0,   0,   0,   0,   0,   0,   0,   0,   0,\n",
              "          0,   0,   0,   0,   0,   0,   0,   0,   0,   0,   0,   0,   0,\n",
              "          0,   0],\n",
              "       [  0,   0,   0,   0,   0,   0,   0,   0,   0,   0,   0,  87, 138,\n",
              "        170, 253, 201, 244, 212, 222, 138,  86,  22,   0,   0,   0,   0,\n",
              "          0,   0],\n",
              "       [  0,   0,   0,   0,   0,   0,   0,   0,   0,   0,  95, 253, 252,\n",
              "        252, 252, 252, 253, 252, 252, 252, 252, 245,  80,   0,   0,   0,\n",
              "          0,   0],\n",
              "       [  0,   0,   0,   0,   0,   0,   0,   0,   0,  68, 246, 205,  69,\n",
              "         69,  69,  69,  69,  69,  69,  69, 205, 253, 240,  50,   0,   0,\n",
              "          0,   0],\n",
              "       [  0,   0,   0,   0,   0,   0,   0,   0,   0, 187, 252, 218,  34,\n",
              "          0,   0,   0,   0,   0,   0,   0, 116, 253, 252,  69,   0,   0,\n",
              "          0,   0],\n",
              "       [  0,   0,   0,   0,   0,   0,   0,   0, 116, 248, 252, 253,  92,\n",
              "          0,   0,   0,   0,   0,   0,  95, 230, 253, 157,   6,   0,   0,\n",
              "          0,   0],\n",
              "       [  0,   0,   0,   0,   0,   0,   0,   0, 116, 249, 253, 189,  42,\n",
              "          0,   0,   0,   0,  36, 170, 253, 243, 158,   0,   0,   0,   0,\n",
              "          0,   0],\n",
              "       [  0,   0,   0,   0,   0,   0,   0,   0,   0, 133, 252, 245, 140,\n",
              "         34,   0,   0,  57, 219, 252, 235,  60,   0,   0,   0,   0,   0,\n",
              "          0,   0],\n",
              "       [  0,   0,   0,   0,   0,   0,   0,   0,   0,  25, 205, 253, 252,\n",
              "        234, 184, 184, 253, 240, 100,  44,   0,   0,   0,   0,   0,   0,\n",
              "          0,   0],\n",
              "       [  0,   0,   0,   0,   0,   0,   0,   0,   0,   0,  21, 161, 219,\n",
              "        252, 252, 252, 234,  37,   0,   0,   0,   0,   0,   0,   0,   0,\n",
              "          0,   0],\n",
              "       [  0,   0,   0,   0,   0,   0,   0,   0,   0,   0,   0,  11, 203,\n",
              "        252, 252, 252, 251, 135,   0,   0,   0,   0,   0,   0,   0,   0,\n",
              "          0,   0],\n",
              "       [  0,   0,   0,   0,   0,   0,   0,   0,   0,   9,  76, 255, 253,\n",
              "        205, 168, 220, 255, 253, 137,   5,   0,   0,   0,   0,   0,   0,\n",
              "          0,   0],\n",
              "       [  0,   0,   0,   0,   0,   0,   0,   0,   0, 114, 252, 249, 132,\n",
              "         25,   0,   0, 180, 252, 252,  45,   0,   0,   0,   0,   0,   0,\n",
              "          0,   0],\n",
              "       [  0,   0,   0,   0,   0,   0,   0,   0,  51, 220, 252, 199,   0,\n",
              "          0,   0,   0,  38, 186, 252, 154,   7,   0,   0,   0,   0,   0,\n",
              "          0,   0],\n",
              "       [  0,   0,   0,   0,   0,   0,   0,   0, 184, 252, 252,  21,   0,\n",
              "          0,   0,   0,   0,  67, 252, 252,  22,   0,   0,   0,   0,   0,\n",
              "          0,   0],\n",
              "       [  0,   0,   0,   0,   0,   0,   0,   0, 184, 252, 200,   0,   0,\n",
              "          0,   0,   0,   0,  47, 252, 252,  22,   0,   0,   0,   0,   0,\n",
              "          0,   0],\n",
              "       [  0,   0,   0,   0,   0,   0,   0,   0, 185, 253, 201,   0,   0,\n",
              "          0,   0,   0,   3, 118, 253, 245,  21,   0,   0,   0,   0,   0,\n",
              "          0,   0],\n",
              "       [  0,   0,   0,   0,   0,   0,   0,   0, 163, 252, 252,   0,   0,\n",
              "          0,   0,   0,  97, 252, 252,  87,   0,   0,   0,   0,   0,   0,\n",
              "          0,   0],\n",
              "       [  0,   0,   0,   0,   0,   0,   0,   0,  51, 240, 252, 123,  70,\n",
              "         70, 112, 184, 222, 252, 170,  13,   0,   0,   0,   0,   0,   0,\n",
              "          0,   0],\n",
              "       [  0,   0,   0,   0,   0,   0,   0,   0,   0, 165, 252, 253, 252,\n",
              "        252, 252, 252, 245, 139,  13,   0,   0,   0,   0,   0,   0,   0,\n",
              "          0,   0],\n",
              "       [  0,   0,   0,   0,   0,   0,   0,   0,   0,   9,  75, 253, 252,\n",
              "        221, 137, 137,  21,   0,   0,   0,   0,   0,   0,   0,   0,   0,\n",
              "          0,   0],\n",
              "       [  0,   0,   0,   0,   0,   0,   0,   0,   0,   0,   0,   0,   0,\n",
              "          0,   0,   0,   0,   0,   0,   0,   0,   0,   0,   0,   0,   0,\n",
              "          0,   0],\n",
              "       [  0,   0,   0,   0,   0,   0,   0,   0,   0,   0,   0,   0,   0,\n",
              "          0,   0,   0,   0,   0,   0,   0,   0,   0,   0,   0,   0,   0,\n",
              "          0,   0],\n",
              "       [  0,   0,   0,   0,   0,   0,   0,   0,   0,   0,   0,   0,   0,\n",
              "          0,   0,   0,   0,   0,   0,   0,   0,   0,   0,   0,   0,   0,\n",
              "          0,   0]], dtype=uint8)"
            ]
          },
          "execution_count": 436,
          "metadata": {},
          "output_type": "execute_result"
        }
      ],
      "source": [
        "#Let's just look at a particular example to see what is inside\n",
        "\n",
        "x_train[333]  ## Just a 28 x 28 numpy array of ints from 0 to 255"
      ]
    },
    {
      "cell_type": "code",
      "execution_count": 437,
      "metadata": {
        "colab": {
          "base_uri": "https://localhost:8080/"
        },
        "id": "iqlfOwupCSc4",
        "outputId": "42f9f010-7d69-47ed-c1b0-47bf9d6fc90b"
      },
      "outputs": [
        {
          "data": {
            "text/plain": [
              "8"
            ]
          },
          "execution_count": 437,
          "metadata": {},
          "output_type": "execute_result"
        }
      ],
      "source": [
        "# What is the corresponding label in the training set?\n",
        "y_train[333]"
      ]
    },
    {
      "cell_type": "code",
      "execution_count": 438,
      "metadata": {
        "colab": {
          "base_uri": "https://localhost:8080/",
          "height": 447
        },
        "id": "nWXdZ4HACSc4",
        "outputId": "dafa3d6e-4eb8-4bc3-a237-527bd6cdfd3b"
      },
      "outputs": [
        {
          "data": {
            "text/plain": [
              "<matplotlib.image.AxesImage at 0x20801c8fa00>"
            ]
          },
          "execution_count": 438,
          "metadata": {},
          "output_type": "execute_result"
        },
        {
          "data": {
            "image/png": "[encoded data removed]",
            "text/plain": [
              "<Figure size 640x480 with 1 Axes>"
            ]
          },
          "metadata": {},
          "output_type": "display_data"
        }
      ],
      "source": [
        "# Let's see what this image actually looks like\n",
        "\n",
        "plt.imshow(x_train[333], cmap='Greys_r')"
      ]
    },
    {
      "cell_type": "code",
      "execution_count": 439,
      "metadata": {
        "colab": {
          "base_uri": "https://localhost:8080/"
        },
        "id": "tw0rOdT4CSc4",
        "outputId": "2c187258-8fb5-4f2a-fde2-318565783284"
      },
      "outputs": [
        {
          "name": "stdout",
          "output_type": "stream",
          "text": [
            "(60000, 28, 28) train samples\n",
            "(10000, 28, 28) test samples\n"
          ]
        }
      ],
      "source": [
        "# this is the shape of the np.array x_train\n",
        "# it is 3 dimensional.\n",
        "print(x_train.shape, 'train samples')\n",
        "print(x_test.shape, 'test samples')"
      ]
    },
    {
      "cell_type": "code",
      "execution_count": 440,
      "metadata": {
        "id": "PH7-Noz2CSc4"
      },
      "outputs": [],
      "source": [
        "## For our purposes, these images are just a vector of 784 inputs, so let's convert\n",
        "x_train = x_train.reshape(len(x_train), 28*28)\n",
        "x_test = x_test.reshape(len(x_test), 28*28)\n",
        "\n",
        "## Keras works with floats, so we must cast the numbers to floats\n",
        "x_train = x_train.astype('float32')\n",
        "x_test = x_test.astype('float32')\n",
        "\n",
        "## Normalize the inputs so they are between 0 and 1\n",
        "x_train /= 255\n",
        "x_test /= 255"
      ]
    },
    {
      "cell_type": "code",
      "execution_count": 441,
      "metadata": {
        "colab": {
          "base_uri": "https://localhost:8080/"
        },
        "id": "4r8YEWuSW1LI",
        "outputId": "2f3f1b17-d0b6-49ac-a3b3-e3a459abf55f"
      },
      "outputs": [
        {
          "data": {
            "text/plain": [
              "array([[0., 0., 0., ..., 0., 0., 0.],\n",
              "       [0., 0., 0., ..., 0., 0., 0.],\n",
              "       [0., 0., 0., ..., 0., 0., 0.],\n",
              "       ...,\n",
              "       [0., 0., 0., ..., 0., 0., 0.],\n",
              "       [0., 0., 0., ..., 0., 0., 0.],\n",
              "       [0., 0., 0., ..., 0., 0., 0.]], dtype=float32)"
            ]
          },
          "execution_count": 441,
          "metadata": {},
          "output_type": "execute_result"
        }
      ],
      "source": [
        "x_train"
      ]
    },
    {
      "cell_type": "code",
      "execution_count": 442,
      "metadata": {
        "colab": {
          "base_uri": "https://localhost:8080/"
        },
        "id": "xzKshg36CSc4",
        "outputId": "1e6cfd4a-b99b-4d7c-f680-88355c7ec481"
      },
      "outputs": [
        {
          "data": {
            "text/plain": [
              "array([0., 0., 0., 0., 0., 0., 0., 0., 1., 0.], dtype=float32)"
            ]
          },
          "execution_count": 442,
          "metadata": {},
          "output_type": "execute_result"
        }
      ],
      "source": [
        "# convert class vectors to binary class matrices\n",
        "num_classes = 10\n",
        "y_train = keras.utils.to_categorical(y_train, num_classes)\n",
        "y_test = keras.utils.to_categorical(y_test, num_classes)\n",
        "\n",
        "y_train[333]  # now the digit k is represented by a 1 in the kth entry (0-indexed) of the length 10 vector"
      ]
    },
    {
      "cell_type": "code",
      "execution_count": 443,
      "metadata": {
        "id": "9c3K16k2CSc5"
      },
      "outputs": [],
      "source": [
        "# We will build a model with two hidden layers of size 512\n",
        "# Fully connected inputs at each layer\n",
        "# We will use dropout of .2 to help regularize\n",
        "model_1 = Sequential()\n",
        "model_1.add(Dense(64, activation='relu', input_shape=(784,)))\n",
        "model_1.add(Dropout(0.2))\n",
        "model_1.add(Dense(64, activation='relu'))\n",
        "model_1.add(Dropout(0.2))\n",
        "model_1.add(Dense(10, activation='softmax'))"
      ]
    },
    {
      "cell_type": "code",
      "execution_count": 444,
      "metadata": {
        "colab": {
          "base_uri": "https://localhost:8080/"
        },
        "id": "ztFls10kCSc5",
        "outputId": "25af9d53-18c2-4f17-8fa9-91cac12034ad"
      },
      "outputs": [
        {
          "name": "stdout",
          "output_type": "stream",
          "text": [
            "Model: \"sequential_54\"\n",
            "_________________________________________________________________\n",
            " Layer (type)                Output Shape              Param #   \n",
            "=================================================================\n",
            " dense_164 (Dense)           (None, 64)                50240     \n",
            "                                                                 \n",
            " dropout_110 (Dropout)       (None, 64)                0         \n",
            "                                                                 \n",
            " dense_165 (Dense)           (None, 64)                4160      \n",
            "                                                                 \n",
            " dropout_111 (Dropout)       (None, 64)                0         \n",
            "                                                                 \n",
            " dense_166 (Dense)           (None, 10)                650       \n",
            "                                                                 \n",
            "=================================================================\n",
            "Total params: 55,050\n",
            "Trainable params: 55,050\n",
            "Non-trainable params: 0\n",
            "_________________________________________________________________\n"
          ]
        }
      ],
      "source": [
        "## Note that this model has a LOT of parameters\n",
        "model_1.summary()"
      ]
    },
    {
      "cell_type": "code",
      "execution_count": 445,
      "metadata": {
        "colab": {
          "base_uri": "https://localhost:8080/"
        },
        "id": "BjiVUhL5CSc5",
        "outputId": "f652f79c-704c-42d4-8e97-572ac2030c32"
      },
      "outputs": [
        {
          "name": "stderr",
          "output_type": "stream",
          "text": [
            "C:\\Users\\Sirisuk\\anaconda3\\envs\\dl_env_new1\\lib\\site-packages\\keras\\optimizers\\optimizer_v2\\rmsprop.py:140: UserWarning: The `lr` argument is deprecated, use `learning_rate` instead.\n",
            "  super().__init__(name, **kwargs)\n"
          ]
        }
      ],
      "source": [
        "# Let's compile the model\n",
        "learning_rate = .001\n",
        "model_1.compile(loss='categorical_crossentropy',\n",
        "              optimizer=RMSprop(lr=learning_rate),\n",
        "              metrics=['accuracy'])\n",
        "# note that `categorical cross entropy` is the natural generalization\n",
        "# of the loss function we had in binary classification case, to multi class case"
      ]
    },
    {
      "cell_type": "code",
      "execution_count": 446,
      "metadata": {
        "colab": {
          "base_uri": "https://localhost:8080/"
        },
        "id": "HZNrKNiTCSc5",
        "outputId": "0a253d83-de21-4d49-a80e-b87d6d951c79"
      },
      "outputs": [
        {
          "name": "stdout",
          "output_type": "stream",
          "text": [
            "Epoch 1/30\n",
            "469/469 [==============================] - 1s 2ms/step - loss: 0.5166 - accuracy: 0.8458 - val_loss: 0.2088 - val_accuracy: 0.9356\n",
            "Epoch 2/30\n",
            "469/469 [==============================] - 1s 2ms/step - loss: 0.2552 - accuracy: 0.9253 - val_loss: 0.1587 - val_accuracy: 0.9527\n",
            "Epoch 3/30\n",
            "469/469 [==============================] - 1s 2ms/step - loss: 0.2064 - accuracy: 0.9393 - val_loss: 0.1375 - val_accuracy: 0.9584\n",
            "Epoch 4/30\n",
            "469/469 [==============================] - 1s 2ms/step - loss: 0.1741 - accuracy: 0.9482 - val_loss: 0.1211 - val_accuracy: 0.9625\n",
            "Epoch 5/30\n",
            "469/469 [==============================] - 1s 2ms/step - loss: 0.1566 - accuracy: 0.9541 - val_loss: 0.1075 - val_accuracy: 0.9665\n",
            "Epoch 6/30\n",
            "469/469 [==============================] - 1s 2ms/step - loss: 0.1442 - accuracy: 0.9573 - val_loss: 0.1086 - val_accuracy: 0.9688\n",
            "Epoch 7/30\n",
            "469/469 [==============================] - 1s 2ms/step - loss: 0.1354 - accuracy: 0.9596 - val_loss: 0.0965 - val_accuracy: 0.9712\n",
            "Epoch 8/30\n",
            "469/469 [==============================] - 1s 2ms/step - loss: 0.1282 - accuracy: 0.9624 - val_loss: 0.0968 - val_accuracy: 0.9727\n",
            "Epoch 9/30\n",
            "469/469 [==============================] - 1s 2ms/step - loss: 0.1207 - accuracy: 0.9644 - val_loss: 0.0888 - val_accuracy: 0.9744\n",
            "Epoch 10/30\n",
            "469/469 [==============================] - 1s 2ms/step - loss: 0.1137 - accuracy: 0.9657 - val_loss: 0.0948 - val_accuracy: 0.9734\n",
            "Epoch 11/30\n",
            "469/469 [==============================] - 1s 2ms/step - loss: 0.1127 - accuracy: 0.9669 - val_loss: 0.0959 - val_accuracy: 0.9750\n",
            "Epoch 12/30\n",
            "469/469 [==============================] - 1s 2ms/step - loss: 0.1093 - accuracy: 0.9671 - val_loss: 0.0921 - val_accuracy: 0.9766\n",
            "Epoch 13/30\n",
            "469/469 [==============================] - 1s 2ms/step - loss: 0.1029 - accuracy: 0.9697 - val_loss: 0.0934 - val_accuracy: 0.9767\n",
            "Epoch 14/30\n",
            "469/469 [==============================] - 1s 2ms/step - loss: 0.1014 - accuracy: 0.9694 - val_loss: 0.0907 - val_accuracy: 0.9760\n",
            "Epoch 15/30\n",
            "469/469 [==============================] - 1s 2ms/step - loss: 0.0993 - accuracy: 0.9710 - val_loss: 0.0980 - val_accuracy: 0.9757\n",
            "Epoch 16/30\n",
            "469/469 [==============================] - 1s 2ms/step - loss: 0.0954 - accuracy: 0.9722 - val_loss: 0.0986 - val_accuracy: 0.9771\n",
            "Epoch 17/30\n",
            "469/469 [==============================] - 1s 2ms/step - loss: 0.0974 - accuracy: 0.9712 - val_loss: 0.0922 - val_accuracy: 0.9781\n",
            "Epoch 18/30\n",
            "469/469 [==============================] - 1s 2ms/step - loss: 0.0928 - accuracy: 0.9726 - val_loss: 0.0988 - val_accuracy: 0.9768\n",
            "Epoch 19/30\n",
            "469/469 [==============================] - 1s 2ms/step - loss: 0.0933 - accuracy: 0.9726 - val_loss: 0.0965 - val_accuracy: 0.9758\n",
            "Epoch 20/30\n",
            "469/469 [==============================] - 1s 2ms/step - loss: 0.0880 - accuracy: 0.9741 - val_loss: 0.1016 - val_accuracy: 0.9761\n",
            "Epoch 21/30\n",
            "469/469 [==============================] - 1s 2ms/step - loss: 0.0890 - accuracy: 0.9741 - val_loss: 0.0927 - val_accuracy: 0.9778\n",
            "Epoch 22/30\n",
            "469/469 [==============================] - 1s 2ms/step - loss: 0.0897 - accuracy: 0.9737 - val_loss: 0.0947 - val_accuracy: 0.9779\n",
            "Epoch 23/30\n",
            "469/469 [==============================] - 1s 2ms/step - loss: 0.0845 - accuracy: 0.9748 - val_loss: 0.1002 - val_accuracy: 0.9761\n",
            "Epoch 24/30\n",
            "469/469 [==============================] - 1s 2ms/step - loss: 0.0862 - accuracy: 0.9747 - val_loss: 0.1001 - val_accuracy: 0.9776\n",
            "Epoch 25/30\n",
            "469/469 [==============================] - 1s 2ms/step - loss: 0.0844 - accuracy: 0.9748 - val_loss: 0.1043 - val_accuracy: 0.9769\n",
            "Epoch 26/30\n",
            "469/469 [==============================] - 1s 2ms/step - loss: 0.0845 - accuracy: 0.9758 - val_loss: 0.1036 - val_accuracy: 0.9773\n",
            "Epoch 27/30\n",
            "469/469 [==============================] - 1s 2ms/step - loss: 0.0827 - accuracy: 0.9760 - val_loss: 0.1003 - val_accuracy: 0.9785\n",
            "Epoch 28/30\n",
            "469/469 [==============================] - 1s 2ms/step - loss: 0.0831 - accuracy: 0.9756 - val_loss: 0.1056 - val_accuracy: 0.9774\n",
            "Epoch 29/30\n",
            "469/469 [==============================] - 1s 2ms/step - loss: 0.0793 - accuracy: 0.9771 - val_loss: 0.1104 - val_accuracy: 0.9781\n",
            "Epoch 30/30\n",
            "469/469 [==============================] - 1s 2ms/step - loss: 0.0781 - accuracy: 0.9774 - val_loss: 0.1179 - val_accuracy: 0.9788\n"
          ]
        }
      ],
      "source": [
        "# And now let's fit.\n",
        "\n",
        "batch_size = 128  # mini-batch with 128 examples\n",
        "epochs = 30\n",
        "history = model_1.fit(\n",
        "    x_train, y_train,\n",
        "    batch_size=batch_size,\n",
        "    epochs=epochs,\n",
        "    verbose=1,\n",
        "    validation_data=(x_test, y_test))"
      ]
    },
    {
      "cell_type": "code",
      "execution_count": 447,
      "metadata": {
        "colab": {
          "base_uri": "https://localhost:8080/"
        },
        "id": "bBqooLenCSc5",
        "outputId": "036398f4-ab9f-4255-8a62-ee5a1e163d0f"
      },
      "outputs": [
        {
          "name": "stdout",
          "output_type": "stream",
          "text": [
            "Test loss: 0.11792481690645218\n",
            "Test accuracy: 0.9787999987602234\n"
          ]
        }
      ],
      "source": [
        "## We will use Keras evaluate function to evaluate performance on the test set\n",
        "\n",
        "score = model_1.evaluate(x_test, y_test, verbose=0)\n",
        "print('Test loss:', score[0])\n",
        "print('Test accuracy:', score[1])"
      ]
    },
    {
      "cell_type": "code",
      "execution_count": 448,
      "metadata": {
        "colab": {
          "base_uri": "https://localhost:8080/"
        },
        "id": "pVl-J1ljZf2z",
        "outputId": "3d20932a-8ee1-4943-eb5c-cb69b3e5b094"
      },
      "outputs": [
        {
          "data": {
            "text/plain": [
              "dict_keys(['loss', 'accuracy', 'val_loss', 'val_accuracy'])"
            ]
          },
          "execution_count": 448,
          "metadata": {},
          "output_type": "execute_result"
        }
      ],
      "source": [
        "history.history.keys()"
      ]
    },
    {
      "cell_type": "code",
      "execution_count": 449,
      "metadata": {
        "colab": {
          "base_uri": "https://localhost:8080/",
          "height": 545
        },
        "id": "Lp3vvCJECSc5",
        "outputId": "156049d4-08e4-4d2e-8149-1eedada056d3"
      },
      "outputs": [
        {
          "data": {
            "image/png": "[encoded data removed]",
            "text/plain": [
              "<Figure size 1200x600 with 2 Axes>"
            ]
          },
          "metadata": {},
          "output_type": "display_data"
        }
      ],
      "source": [
        "def plot_loss_accuracy(history):\n",
        "    fig = plt.figure(figsize=(12, 6))\n",
        "    ax = fig.add_subplot(1, 2, 1)\n",
        "    ax.plot(history.history[\"loss\"],'r-x', label=\"Train Loss\")\n",
        "    ax.plot(history.history[\"val_loss\"],'b-x', label=\"Validation Loss\")\n",
        "    ax.legend()\n",
        "    ax.set_title('cross_entropy loss')\n",
        "    ax.grid(True)\n",
        "\n",
        "\n",
        "    ax = fig.add_subplot(1, 2, 2)\n",
        "    ax.plot(history.history[\"accuracy\"],'r-x', label=\"Train Accuracy\")\n",
        "    ax.plot(history.history[\"val_accuracy\"],'b-x', label=\"Validation Accuracy\")\n",
        "    ax.legend()\n",
        "    ax.set_title('accuracy')\n",
        "    ax.grid(True)\n",
        "\n",
        "\n",
        "plot_loss_accuracy(history)"
      ]
    },
    {
      "cell_type": "markdown",
      "metadata": {
        "id": "Ckr9t5-jCSc6"
      },
      "source": [
        "This is reasonably good performance, but we can do even better!  Next you will build an even bigger network and compare the performance."
      ]
    },
    {
      "cell_type": "markdown",
      "metadata": {
        "id": "Ez8J6B74CSc6"
      },
      "source": [
        "## Exercise\n",
        "### Your Turn: Build your own model\n",
        "Use the Keras \"Sequential\" functionality to build `model_2` with the following specifications:\n",
        "\n",
        "1. Two hidden layers.\n",
        "2. First hidden layer of size 400 and second of size 300\n",
        "3. Dropout of .4 at each layer\n",
        "4. How many parameters does your model have?  How does it compare with the previous model?\n",
        "4. Train this model for 20 epochs with RMSProp at a learning rate of .001 and a batch size of 128\n",
        "\n",
        "\n"
      ]
    },
    {
      "cell_type": "code",
      "execution_count": 466,
      "metadata": {
        "id": "B6BW6UizCSc6"
      },
      "outputs": [],
      "source": [
        "### Build your model here\n",
        "import os, random, numpy as np\n",
        "import tensorflow as tf\n",
        "\n",
        "seed_value = 1111\n",
        "random.seed(seed_value)\n",
        "np.random.seed(seed_value)\n",
        "tf.random.set_seed(seed_value)\n",
        "os.environ['PYTHONHASHSEED'] = str(seed_value)"
      ]
    },
    {
      "cell_type": "code",
      "execution_count": 467,
      "metadata": {
        "colab": {
          "base_uri": "https://localhost:8080/"
        },
        "id": "0JLKmPv2bU0F",
        "outputId": "b5c37e70-f77b-4afc-8f21-745ea9627fd5"
      },
      "outputs": [
        {
          "data": {
            "text/plain": [
              "(784,)"
            ]
          },
          "execution_count": 467,
          "metadata": {},
          "output_type": "execute_result"
        }
      ],
      "source": [
        "x_train.shape[1:]"
      ]
    },
    {
      "cell_type": "code",
      "execution_count": 468,
      "metadata": {
        "id": "9zyDrlicCSc6"
      },
      "outputs": [
        {
          "name": "stdout",
          "output_type": "stream",
          "text": [
            "Model: \"sequential_56\"\n",
            "_________________________________________________________________\n",
            " Layer (type)                Output Shape              Param #   \n",
            "=================================================================\n",
            " dense_171 (Dense)           (None, 300)               235500    \n",
            "                                                                 \n",
            " dropout_114 (Dropout)       (None, 300)               0         \n",
            "                                                                 \n",
            " dense_172 (Dense)           (None, 200)               60200     \n",
            "                                                                 \n",
            " dropout_115 (Dropout)       (None, 200)               0         \n",
            "                                                                 \n",
            " dense_173 (Dense)           (None, 10)                2010      \n",
            "                                                                 \n",
            "=================================================================\n",
            "Total params: 297,710\n",
            "Trainable params: 297,710\n",
            "Non-trainable params: 0\n",
            "_________________________________________________________________\n"
          ]
        }
      ],
      "source": [
        "model_2 = Sequential([\n",
        "    Dense(300, activation='relu', input_shape=x_train.shape[1:]),\n",
        "    Dropout(0.4),\n",
        "    Dense(200, activation='relu'),\n",
        "    Dropout(0.4),\n",
        "    Dense(10, activation='softmax'),\n",
        "])\n",
        "model_2.summary()"
      ]
    },
    {
      "cell_type": "code",
      "execution_count": 469,
      "metadata": {
        "id": "SzKeOpvkCSc6"
      },
      "outputs": [],
      "source": [
        "learning_rate = 0.001\n",
        "model_2.compile(loss='categorical_crossentropy',\n",
        "              optimizer=RMSprop(lr=learning_rate),\n",
        "              metrics=['accuracy'])"
      ]
    },
    {
      "cell_type": "code",
      "execution_count": 470,
      "metadata": {
        "id": "Ns3G8sEMCSc6"
      },
      "outputs": [
        {
          "name": "stdout",
          "output_type": "stream",
          "text": [
            "Epoch 1/20\n",
            "469/469 [==============================] - 1s 2ms/step - loss: 0.3672 - accuracy: 0.8889 - val_loss: 0.1381 - val_accuracy: 0.9577\n",
            "Epoch 2/20\n",
            "469/469 [==============================] - 1s 2ms/step - loss: 0.1731 - accuracy: 0.9495 - val_loss: 0.1048 - val_accuracy: 0.9680\n",
            "Epoch 3/20\n",
            "469/469 [==============================] - 1s 2ms/step - loss: 0.1341 - accuracy: 0.9611 - val_loss: 0.0860 - val_accuracy: 0.9745\n",
            "Epoch 4/20\n",
            "469/469 [==============================] - 1s 2ms/step - loss: 0.1151 - accuracy: 0.9670 - val_loss: 0.0868 - val_accuracy: 0.9749\n",
            "Epoch 5/20\n",
            "469/469 [==============================] - 1s 2ms/step - loss: 0.1039 - accuracy: 0.9701 - val_loss: 0.0839 - val_accuracy: 0.9763\n",
            "Epoch 6/20\n",
            "469/469 [==============================] - 1s 2ms/step - loss: 0.0977 - accuracy: 0.9729 - val_loss: 0.0838 - val_accuracy: 0.9780\n",
            "Epoch 7/20\n",
            "469/469 [==============================] - 1s 2ms/step - loss: 0.0893 - accuracy: 0.9739 - val_loss: 0.0866 - val_accuracy: 0.9787\n",
            "Epoch 8/20\n",
            "469/469 [==============================] - 1s 2ms/step - loss: 0.0848 - accuracy: 0.9764 - val_loss: 0.0869 - val_accuracy: 0.9783\n",
            "Epoch 9/20\n",
            "469/469 [==============================] - 1s 2ms/step - loss: 0.0779 - accuracy: 0.9773 - val_loss: 0.0792 - val_accuracy: 0.9794\n",
            "Epoch 10/20\n",
            "469/469 [==============================] - 1s 2ms/step - loss: 0.0779 - accuracy: 0.9784 - val_loss: 0.0783 - val_accuracy: 0.9814\n",
            "Epoch 11/20\n",
            "469/469 [==============================] - 1s 2ms/step - loss: 0.0737 - accuracy: 0.9801 - val_loss: 0.0840 - val_accuracy: 0.9811\n",
            "Epoch 12/20\n",
            "469/469 [==============================] - 1s 2ms/step - loss: 0.0728 - accuracy: 0.9801 - val_loss: 0.0874 - val_accuracy: 0.9810\n",
            "Epoch 13/20\n",
            "469/469 [==============================] - 1s 2ms/step - loss: 0.0711 - accuracy: 0.9809 - val_loss: 0.0943 - val_accuracy: 0.9798\n",
            "Epoch 14/20\n",
            "469/469 [==============================] - 1s 2ms/step - loss: 0.0680 - accuracy: 0.9813 - val_loss: 0.0952 - val_accuracy: 0.9810\n",
            "Epoch 15/20\n",
            "469/469 [==============================] - 1s 2ms/step - loss: 0.0653 - accuracy: 0.9823 - val_loss: 0.0966 - val_accuracy: 0.9807\n",
            "Epoch 16/20\n",
            "469/469 [==============================] - 1s 2ms/step - loss: 0.0654 - accuracy: 0.9823 - val_loss: 0.0978 - val_accuracy: 0.9807\n",
            "Epoch 17/20\n",
            "469/469 [==============================] - 1s 2ms/step - loss: 0.0629 - accuracy: 0.9832 - val_loss: 0.1057 - val_accuracy: 0.9803\n",
            "Epoch 18/20\n",
            "469/469 [==============================] - 1s 2ms/step - loss: 0.0641 - accuracy: 0.9834 - val_loss: 0.0984 - val_accuracy: 0.9828\n",
            "Epoch 19/20\n",
            "469/469 [==============================] - 1s 2ms/step - loss: 0.0606 - accuracy: 0.9847 - val_loss: 0.0971 - val_accuracy: 0.9823\n",
            "Epoch 20/20\n",
            "469/469 [==============================] - 1s 2ms/step - loss: 0.0582 - accuracy: 0.9843 - val_loss: 0.1113 - val_accuracy: 0.9816\n"
          ]
        }
      ],
      "source": [
        "batch_size = 128  # mini-batch with 128 examples\n",
        "epochs = 20\n",
        "history = model_2.fit(\n",
        "    x_train, y_train,\n",
        "    batch_size=batch_size,\n",
        "    epochs=epochs,\n",
        "    verbose=1,\n",
        "    validation_data=(x_test, y_test))"
      ]
    },
    {
      "cell_type": "code",
      "execution_count": 471,
      "metadata": {
        "id": "XVQyxa1QfGAB"
      },
      "outputs": [
        {
          "name": "stdout",
          "output_type": "stream",
          "text": [
            "Test loss: 0.11129046976566315\n",
            "Test accuracy: 0.9815999865531921\n"
          ]
        }
      ],
      "source": [
        "score = model_2.evaluate(x_test, y_test, verbose=0)\n",
        "print('Test loss:', score[0])\n",
        "print('Test accuracy:', score[1])"
      ]
    },
    {
      "cell_type": "code",
      "execution_count": 472,
      "metadata": {
        "id": "UQUjLWK3fJxp"
      },
      "outputs": [
        {
          "data": {
            "text/plain": [
              "dict_keys(['loss', 'accuracy', 'val_loss', 'val_accuracy'])"
            ]
          },
          "execution_count": 472,
          "metadata": {},
          "output_type": "execute_result"
        }
      ],
      "source": [
        "history.history.keys()"
      ]
    },
    {
      "cell_type": "code",
      "execution_count": 473,
      "metadata": {
        "id": "kONZ-6ZafNQa"
      },
      "outputs": [
        {
          "data": {
            "image/png": "[encoded data removed]",
            "text/plain": [
              "<Figure size 1200x600 with 2 Axes>"
            ]
          },
          "metadata": {},
          "output_type": "display_data"
        }
      ],
      "source": [
        "def plot_loss_accuracy(history):\n",
        "    fig = plt.figure(figsize=(12, 6))\n",
        "    ax = fig.add_subplot(1, 2, 1)\n",
        "    ax.plot(history.history[\"loss\"],'r-x', label=\"Train Loss\")\n",
        "    ax.plot(history.history[\"val_loss\"],'b-x', label=\"Validation Loss\")\n",
        "    ax.legend()\n",
        "    ax.set_title('cross_entropy loss')\n",
        "    ax.grid(True)\n",
        "\n",
        "\n",
        "    ax = fig.add_subplot(1, 2, 2)\n",
        "    ax.plot(history.history[\"accuracy\"],'r-x', label=\"Train Accuracy\")\n",
        "    ax.plot(history.history[\"val_accuracy\"],'b-x', label=\"Validation Accuracy\")\n",
        "    ax.legend()\n",
        "    ax.set_title('accuracy')\n",
        "    ax.grid(True)\n",
        "\n",
        "\n",
        "plot_loss_accuracy(history)"
      ]
    },
    {
      "cell_type": "markdown",
      "metadata": {
        "id": "6sJ5H-4pCSc6"
      },
      "source": [
        "## SOLUTION"
      ]
    },
    {
      "cell_type": "code",
      "execution_count": null,
      "metadata": {
        "id": "nH_8SOSmCSc6"
      },
      "outputs": [],
      "source": []
    },
    {
      "cell_type": "code",
      "execution_count": null,
      "metadata": {
        "id": "mcmZEaoVCSc6"
      },
      "outputs": [],
      "source": []
    },
    {
      "cell_type": "code",
      "execution_count": null,
      "metadata": {
        "id": "0QjDSAd1CSc6"
      },
      "outputs": [],
      "source": []
    },
    {
      "cell_type": "markdown",
      "metadata": {
        "collapsed": true,
        "id": "1OduyJeKCSc6"
      },
      "source": [
        "## Think about the following questions\n",
        "\n",
        "1) How do model_1 and model_2 compare?  Which do you prefer?  If you were going to put one into production, which would you choose and why?\n",
        "\n",
        "2) Compare the trajectories of the loss function on the training set and test set for each model?  How do they compare?  What does that suggest about each model?  Do the same for accuracy?  Which do you think is more meaningful, the loss or the accuracy?\n",
        "\n",
        "3) Suggest an improvement to one of the models (changing structure, learning rate, number of epochs, etc.) that you think will result in a better model.  Try it out below?  Did it improve the performance?"
      ]
    },
    {
      "cell_type": "code",
      "execution_count": null,
      "metadata": {
        "id": "6vKdUNogCSc7"
      },
      "outputs": [],
      "source": []
    },
    {
      "cell_type": "code",
      "execution_count": null,
      "metadata": {
        "id": "3-IS3L0jCSc7"
      },
      "outputs": [],
      "source": []
    },
    {
      "cell_type": "code",
      "execution_count": null,
      "metadata": {
        "id": "2IxAY9XLCSc7"
      },
      "outputs": [],
      "source": []
    }
  ],
  "metadata": {
    "colab": {
      "provenance": []
    },
    "kernelspec": {
      "display_name": "dl_env",
      "language": "python",
      "name": "dl_env"
    },
    "language_info": {
      "codemirror_mode": {
        "name": "ipython",
        "version": 3
      },
      "file_extension": ".py",
      "mimetype": "text/x-python",
      "name": "python",
      "nbconvert_exporter": "python",
      "pygments_lexer": "ipython3",
      "version": "3.10.13"
    }
  },
  "nbformat": 4,
  "nbformat_minor": 0
}
