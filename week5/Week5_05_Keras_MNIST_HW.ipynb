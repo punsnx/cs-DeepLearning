{
  "cells": [
    {
      "cell_type": "markdown",
      "metadata": {
        "id": "aCypoSP8CScx"
      },
      "source": [
        "## Handwritten Image Detection with Keras using MNIST data\n",
        "\n",
        "In this exercise we will work with image data: specifically the famous MNIST data set.  This data set contains 70,000 images of handwritten digits in grayscale (0=black, 255 = white).  The images are 28 pixels by 28 pixels for a total of 784 pixels.  This is quite small by image standards.  Also, the images are well centered and isolated.  This makes this problem solvable with standard fully connected neural nets without too much pre-work."
      ]
    },
    {
      "cell_type": "markdown",
      "metadata": {
        "id": "261GIXrSCSc2"
      },
      "source": [
        "In the first part of this notebook, we will walk you through loading in the data, building a network, and training it.  Then it will be your turn to try different models and see if you can improve performance"
      ]
    },
    {
      "cell_type": "code",
      "execution_count": null,
      "metadata": {
        "id": "82IaB9cXCSc2"
      },
      "outputs": [],
      "source": [
        "# Preliminaries\n",
        "\n",
        "from __future__ import print_function\n",
        "\n",
        "import keras\n",
        "from keras.datasets import mnist\n",
        "from keras.models import Sequential\n",
        "from keras.layers import Dense, Dropout\n",
        "from keras.optimizers import RMSprop\n",
        "\n",
        "import numpy as np\n",
        "import matplotlib.pyplot as plt\n",
        "%matplotlib inline"
      ]
    },
    {
      "cell_type": "markdown",
      "metadata": {
        "collapsed": true,
        "id": "6ZwGlP-GCSc3"
      },
      "source": [
        "Let's explore the dataset a little bit"
      ]
    },
    {
      "cell_type": "code",
      "execution_count": null,
      "metadata": {
        "colab": {
          "base_uri": "https://localhost:8080/"
        },
        "id": "A2Qx2n0oCSc3",
        "outputId": "3dec7f57-67cd-42cd-c616-d13c925bfdca"
      },
      "outputs": [
        {
          "name": "stdout",
          "output_type": "stream",
          "text": [
            "Downloading data from https://storage.googleapis.com/tensorflow/tf-keras-datasets/mnist.npz\n",
            "11490434/11490434 [==============================] - 0s 0us/step\n"
          ]
        }
      ],
      "source": [
        "# Load the data, shuffled and split between train and test sets (x_train and y_rain)\n",
        "(x_train, y_train), (x_test, y_test) = mnist.load_data()"
      ]
    },
    {
      "cell_type": "code",
      "execution_count": 1,
      "metadata": {
        "colab": {
          "base_uri": "https://localhost:8080/"
        },
        "id": "Ml7UFiZzCSc4",
        "outputId": "390392fe-304f-4bc3-d8d9-a7e958f2ef32"
      },
      "outputs": [
        {
          "ename": "NameError",
          "evalue": "name 'x_train' is not defined",
          "output_type": "error",
          "traceback": [
            "\u001b[0;31m---------------------------------------------------------------------------\u001b[0m",
            "\u001b[0;31mNameError\u001b[0m                                 Traceback (most recent call last)",
            "Cell \u001b[0;32mIn[1], line 1\u001b[0m\n\u001b[0;32m----> 1\u001b[0m \u001b[43mx_train\u001b[49m[\u001b[38;5;241m0\u001b[39m]\u001b[38;5;241m.\u001b[39mshape\n",
            "\u001b[0;31mNameError\u001b[0m: name 'x_train' is not defined"
          ]
        }
      ],
      "source": [
        "x_train[0].shape"
      ]
    },
    {
      "cell_type": "code",
      "execution_count": null,
      "metadata": {
        "colab": {
          "base_uri": "https://localhost:8080/"
        },
        "id": "tRp2xnyxCSc4",
        "outputId": "ea5776db-fe5e-4227-b31d-8388d726aa25"
      },
      "outputs": [
        {
          "data": {
            "text/plain": [
              "array([[  0,   0,   0,   0,   0,   0,   0,   0,   0,   0,   0,   0,   0,\n",
              "          0,   0,   0,   0,   0,   0,   0,   0,   0,   0,   0,   0,   0,\n",
              "          0,   0],\n",
              "       [  0,   0,   0,   0,   0,   0,   0,   0,   0,   0,   0,   0,   0,\n",
              "          0,   0,   0,   0,   0,   0,   0,   0,   0,   0,   0,   0,   0,\n",
              "          0,   0],\n",
              "       [  0,   0,   0,   0,   0,   0,   0,   0,   0,   0,   0,   0,   0,\n",
              "          0,   0,   0,   0,   0,   0,   0,   0,   0,   0,   0,   0,   0,\n",
              "          0,   0],\n",
              "       [  0,   0,   0,   0,   0,   0,   0,   0,   0,   0,   0,   0,   0,\n",
              "          0,   0,   0,   0,   0,   0,   0,   0,   0,   0,   0,   0,   0,\n",
              "          0,   0],\n",
              "       [  0,   0,   0,   0,   0,   0,   0,   0,   0,   0,   0,   0,   0,\n",
              "          0,   0,   0,   0,   0,   0,   0,   0,   0,   0,   0,   0,   0,\n",
              "          0,   0],\n",
              "       [  0,   0,   0,   0,   0,   0,   0,   0,   0,   0,   0,  87, 138,\n",
              "        170, 253, 201, 244, 212, 222, 138,  86,  22,   0,   0,   0,   0,\n",
              "          0,   0],\n",
              "       [  0,   0,   0,   0,   0,   0,   0,   0,   0,   0,  95, 253, 252,\n",
              "        252, 252, 252, 253, 252, 252, 252, 252, 245,  80,   0,   0,   0,\n",
              "          0,   0],\n",
              "       [  0,   0,   0,   0,   0,   0,   0,   0,   0,  68, 246, 205,  69,\n",
              "         69,  69,  69,  69,  69,  69,  69, 205, 253, 240,  50,   0,   0,\n",
              "          0,   0],\n",
              "       [  0,   0,   0,   0,   0,   0,   0,   0,   0, 187, 252, 218,  34,\n",
              "          0,   0,   0,   0,   0,   0,   0, 116, 253, 252,  69,   0,   0,\n",
              "          0,   0],\n",
              "       [  0,   0,   0,   0,   0,   0,   0,   0, 116, 248, 252, 253,  92,\n",
              "          0,   0,   0,   0,   0,   0,  95, 230, 253, 157,   6,   0,   0,\n",
              "          0,   0],\n",
              "       [  0,   0,   0,   0,   0,   0,   0,   0, 116, 249, 253, 189,  42,\n",
              "          0,   0,   0,   0,  36, 170, 253, 243, 158,   0,   0,   0,   0,\n",
              "          0,   0],\n",
              "       [  0,   0,   0,   0,   0,   0,   0,   0,   0, 133, 252, 245, 140,\n",
              "         34,   0,   0,  57, 219, 252, 235,  60,   0,   0,   0,   0,   0,\n",
              "          0,   0],\n",
              "       [  0,   0,   0,   0,   0,   0,   0,   0,   0,  25, 205, 253, 252,\n",
              "        234, 184, 184, 253, 240, 100,  44,   0,   0,   0,   0,   0,   0,\n",
              "          0,   0],\n",
              "       [  0,   0,   0,   0,   0,   0,   0,   0,   0,   0,  21, 161, 219,\n",
              "        252, 252, 252, 234,  37,   0,   0,   0,   0,   0,   0,   0,   0,\n",
              "          0,   0],\n",
              "       [  0,   0,   0,   0,   0,   0,   0,   0,   0,   0,   0,  11, 203,\n",
              "        252, 252, 252, 251, 135,   0,   0,   0,   0,   0,   0,   0,   0,\n",
              "          0,   0],\n",
              "       [  0,   0,   0,   0,   0,   0,   0,   0,   0,   9,  76, 255, 253,\n",
              "        205, 168, 220, 255, 253, 137,   5,   0,   0,   0,   0,   0,   0,\n",
              "          0,   0],\n",
              "       [  0,   0,   0,   0,   0,   0,   0,   0,   0, 114, 252, 249, 132,\n",
              "         25,   0,   0, 180, 252, 252,  45,   0,   0,   0,   0,   0,   0,\n",
              "          0,   0],\n",
              "       [  0,   0,   0,   0,   0,   0,   0,   0,  51, 220, 252, 199,   0,\n",
              "          0,   0,   0,  38, 186, 252, 154,   7,   0,   0,   0,   0,   0,\n",
              "          0,   0],\n",
              "       [  0,   0,   0,   0,   0,   0,   0,   0, 184, 252, 252,  21,   0,\n",
              "          0,   0,   0,   0,  67, 252, 252,  22,   0,   0,   0,   0,   0,\n",
              "          0,   0],\n",
              "       [  0,   0,   0,   0,   0,   0,   0,   0, 184, 252, 200,   0,   0,\n",
              "          0,   0,   0,   0,  47, 252, 252,  22,   0,   0,   0,   0,   0,\n",
              "          0,   0],\n",
              "       [  0,   0,   0,   0,   0,   0,   0,   0, 185, 253, 201,   0,   0,\n",
              "          0,   0,   0,   3, 118, 253, 245,  21,   0,   0,   0,   0,   0,\n",
              "          0,   0],\n",
              "       [  0,   0,   0,   0,   0,   0,   0,   0, 163, 252, 252,   0,   0,\n",
              "          0,   0,   0,  97, 252, 252,  87,   0,   0,   0,   0,   0,   0,\n",
              "          0,   0],\n",
              "       [  0,   0,   0,   0,   0,   0,   0,   0,  51, 240, 252, 123,  70,\n",
              "         70, 112, 184, 222, 252, 170,  13,   0,   0,   0,   0,   0,   0,\n",
              "          0,   0],\n",
              "       [  0,   0,   0,   0,   0,   0,   0,   0,   0, 165, 252, 253, 252,\n",
              "        252, 252, 252, 245, 139,  13,   0,   0,   0,   0,   0,   0,   0,\n",
              "          0,   0],\n",
              "       [  0,   0,   0,   0,   0,   0,   0,   0,   0,   9,  75, 253, 252,\n",
              "        221, 137, 137,  21,   0,   0,   0,   0,   0,   0,   0,   0,   0,\n",
              "          0,   0],\n",
              "       [  0,   0,   0,   0,   0,   0,   0,   0,   0,   0,   0,   0,   0,\n",
              "          0,   0,   0,   0,   0,   0,   0,   0,   0,   0,   0,   0,   0,\n",
              "          0,   0],\n",
              "       [  0,   0,   0,   0,   0,   0,   0,   0,   0,   0,   0,   0,   0,\n",
              "          0,   0,   0,   0,   0,   0,   0,   0,   0,   0,   0,   0,   0,\n",
              "          0,   0],\n",
              "       [  0,   0,   0,   0,   0,   0,   0,   0,   0,   0,   0,   0,   0,\n",
              "          0,   0,   0,   0,   0,   0,   0,   0,   0,   0,   0,   0,   0,\n",
              "          0,   0]], dtype=uint8)"
            ]
          },
          "execution_count": 4,
          "metadata": {},
          "output_type": "execute_result"
        }
      ],
      "source": [
        "#Let's just look at a particular example to see what is inside\n",
        "\n",
        "x_train[333]  ## Just a 28 x 28 numpy array of ints from 0 to 255"
      ]
    },
    {
      "cell_type": "code",
      "execution_count": null,
      "metadata": {
        "colab": {
          "base_uri": "https://localhost:8080/"
        },
        "id": "iqlfOwupCSc4",
        "outputId": "48936f0c-dcb2-4db0-b496-041284253078"
      },
      "outputs": [
        {
          "data": {
            "text/plain": [
              "8"
            ]
          },
          "execution_count": 5,
          "metadata": {},
          "output_type": "execute_result"
        }
      ],
      "source": [
        "# What is the corresponding label in the training set?\n",
        "y_train[333]"
      ]
    },
    {
      "cell_type": "code",
      "execution_count": null,
      "metadata": {
        "colab": {
          "base_uri": "https://localhost:8080/",
          "height": 447
        },
        "id": "nWXdZ4HACSc4",
        "outputId": "99baf611-e4ac-4d1b-dba8-6a65a2e82bbb"
      },
      "outputs": [
        {
          "data": {
            "text/plain": [
              "<matplotlib.image.AxesImage at 0x7be67c3186a0>"
            ]
          },
          "execution_count": 6,
          "metadata": {},
          "output_type": "execute_result"
        },
        {
          "data": {
            "image/png": "[encoded data removed]",
            "text/plain": [
              "<Figure size 640x480 with 1 Axes>"
            ]
          },
          "metadata": {},
          "output_type": "display_data"
        }
      ],
      "source": [
        "# Let's see what this image actually looks like\n",
        "\n",
        "plt.imshow(x_train[333], cmap='Greys_r')"
      ]
    },
    {
      "cell_type": "code",
      "execution_count": null,
      "metadata": {
        "colab": {
          "base_uri": "https://localhost:8080/"
        },
        "id": "tw0rOdT4CSc4",
        "outputId": "7fd1f466-7773-4b79-82f6-1618dd0b8ebb"
      },
      "outputs": [
        {
          "name": "stdout",
          "output_type": "stream",
          "text": [
            "(60000, 28, 28) train samples\n",
            "(10000, 28, 28) test samples\n"
          ]
        }
      ],
      "source": [
        "# this is the shape of the np.array x_train\n",
        "# it is 3 dimensional.\n",
        "print(x_train.shape, 'train samples')\n",
        "print(x_test.shape, 'test samples')"
      ]
    },
    {
      "cell_type": "code",
      "execution_count": null,
      "metadata": {
        "id": "PH7-Noz2CSc4"
      },
      "outputs": [],
      "source": [
        "## For our purposes, these images are just a vector of 784 inputs, so let's convert\n",
        "x_train = x_train.reshape(len(x_train), 28*28)\n",
        "x_test = x_test.reshape(len(x_test), 28*28)\n",
        "\n",
        "## Keras works with floats, so we must cast the numbers to floats\n",
        "x_train = x_train.astype('float32')\n",
        "x_test = x_test.astype('float32')\n",
        "\n",
        "## Normalize the inputs so they are between 0 and 1\n",
        "x_train /= 255\n",
        "x_test /= 255"
      ]
    },
    {
      "cell_type": "code",
      "execution_count": null,
      "metadata": {
        "id": "xzKshg36CSc4"
      },
      "outputs": [],
      "source": [
        "# convert class vectors to binary class matrices\n",
        "num_classes = 10\n",
        "y_train = keras.utils.to_categorical(y_train, num_classes)\n",
        "y_test = keras.utils.to_categorical(y_test, num_classes)\n",
        "\n",
        "y_train[333]  # now the digit k is represented by a 1 in the kth entry (0-indexed) of the length 10 vector"
      ]
    },
    {
      "cell_type": "code",
      "execution_count": null,
      "metadata": {
        "id": "9c3K16k2CSc5"
      },
      "outputs": [],
      "source": [
        "# We will build a model with two hidden layers of size 512\n",
        "# Fully connected inputs at each layer\n",
        "# We will use dropout of .2 to help regularize\n",
        "model_1 = Sequential()\n",
        "model_1.add(Dense(64, activation='relu', input_shape=(784,)))\n",
        "model_1.add(Dropout(0.2))\n",
        "model_1.add(Dense(64, activation='relu'))\n",
        "model_1.add(Dropout(0.2))\n",
        "model_1.add(Dense(10, activation='softmax'))"
      ]
    },
    {
      "cell_type": "code",
      "execution_count": null,
      "metadata": {
        "id": "ztFls10kCSc5"
      },
      "outputs": [],
      "source": [
        "## Note that this model has a LOT of parameters\n",
        "model_1.summary()"
      ]
    },
    {
      "cell_type": "code",
      "execution_count": null,
      "metadata": {
        "id": "BjiVUhL5CSc5"
      },
      "outputs": [],
      "source": [
        "# Let's compile the model\n",
        "learning_rate = .001\n",
        "model_1.compile(loss='categorical_crossentropy',\n",
        "              optimizer=RMSprop(lr=learning_rate),\n",
        "              metrics=['accuracy'])\n",
        "# note that `categorical cross entropy` is the natural generalization\n",
        "# of the loss function we had in binary classification case, to multi class case"
      ]
    },
    {
      "cell_type": "code",
      "execution_count": null,
      "metadata": {
        "id": "HZNrKNiTCSc5"
      },
      "outputs": [],
      "source": [
        "# And now let's fit.\n",
        "\n",
        "batch_size = 128  # mini-batch with 128 examples\n",
        "epochs = 30\n",
        "history = model_1.fit(\n",
        "    x_train, y_train,\n",
        "    batch_size=batch_size,\n",
        "    epochs=epochs,\n",
        "    verbose=1,\n",
        "    validation_data=(x_test, y_test))"
      ]
    },
    {
      "cell_type": "code",
      "execution_count": null,
      "metadata": {
        "id": "bBqooLenCSc5"
      },
      "outputs": [],
      "source": [
        "## We will use Keras evaluate function to evaluate performance on the test set\n",
        "\n",
        "score = model_1.evaluate(x_test, y_test, verbose=0)\n",
        "print('Test loss:', score[0])\n",
        "print('Test accuracy:', score[1])"
      ]
    },
    {
      "cell_type": "code",
      "execution_count": null,
      "metadata": {
        "id": "Lp3vvCJECSc5"
      },
      "outputs": [],
      "source": [
        "def plot_loss_accuracy(history):\n",
        "    fig = plt.figure(figsize=(12, 6))\n",
        "    ax = fig.add_subplot(1, 2, 1)\n",
        "    ax.plot(history.history[\"loss\"],'r-x', label=\"Train Loss\")\n",
        "    ax.plot(history.history[\"val_loss\"],'b-x', label=\"Validation Loss\")\n",
        "    ax.legend()\n",
        "    ax.set_title('cross_entropy loss')\n",
        "    ax.grid(True)\n",
        "\n",
        "\n",
        "    ax = fig.add_subplot(1, 2, 2)\n",
        "    ax.plot(history.history[\"acc\"],'r-x', label=\"Train Accuracy\")\n",
        "    ax.plot(history.history[\"val_acc\"],'b-x', label=\"Validation Accuracy\")\n",
        "    ax.legend()\n",
        "    ax.set_title('accuracy')\n",
        "    ax.grid(True)\n",
        "\n",
        "\n",
        "plot_loss_accuracy(history)"
      ]
    },
    {
      "cell_type": "markdown",
      "metadata": {
        "id": "Ckr9t5-jCSc6"
      },
      "source": [
        "This is reasonably good performance, but we can do even better!  Next you will build an even bigger network and compare the performance."
      ]
    },
    {
      "cell_type": "markdown",
      "metadata": {
        "id": "Ez8J6B74CSc6"
      },
      "source": [
        "## Exercise\n",
        "### Your Turn: Build your own model\n",
        "Use the Keras \"Sequential\" functionality to build `model_2` with the following specifications:\n",
        "\n",
        "1. Two hidden layers.\n",
        "2. First hidden layer of size 400 and second of size 300\n",
        "3. Dropout of .4 at each layer\n",
        "4. How many parameters does your model have?  How does it compare with the previous model?\n",
        "4. Train this model for 20 epochs with RMSProp at a learning rate of .001 and a batch size of 128\n",
        "\n",
        "\n"
      ]
    },
    {
      "cell_type": "code",
      "execution_count": null,
      "metadata": {
        "id": "B6BW6UizCSc6"
      },
      "outputs": [],
      "source": [
        "### Build your model here\n"
      ]
    },
    {
      "cell_type": "code",
      "execution_count": null,
      "metadata": {
        "id": "9zyDrlicCSc6"
      },
      "outputs": [],
      "source": []
    },
    {
      "cell_type": "code",
      "execution_count": null,
      "metadata": {
        "id": "SzKeOpvkCSc6"
      },
      "outputs": [],
      "source": []
    },
    {
      "cell_type": "code",
      "execution_count": null,
      "metadata": {
        "id": "Ns3G8sEMCSc6"
      },
      "outputs": [],
      "source": []
    },
    {
      "cell_type": "markdown",
      "metadata": {
        "id": "6sJ5H-4pCSc6"
      },
      "source": [
        "## SOLUTION"
      ]
    },
    {
      "cell_type": "code",
      "execution_count": null,
      "metadata": {
        "id": "nH_8SOSmCSc6"
      },
      "outputs": [],
      "source": []
    },
    {
      "cell_type": "code",
      "execution_count": null,
      "metadata": {
        "id": "mcmZEaoVCSc6"
      },
      "outputs": [],
      "source": []
    },
    {
      "cell_type": "code",
      "execution_count": null,
      "metadata": {
        "id": "0QjDSAd1CSc6"
      },
      "outputs": [],
      "source": []
    },
    {
      "cell_type": "markdown",
      "metadata": {
        "collapsed": true,
        "id": "1OduyJeKCSc6"
      },
      "source": [
        "## Think about the following questions\n",
        "\n",
        "1) How do model_1 and model_2 compare?  Which do you prefer?  If you were going to put one into production, which would you choose and why?\n",
        "\n",
        "2) Compare the trajectories of the loss function on the training set and test set for each model?  How do they compare?  What does that suggest about each model?  Do the same for accuracy?  Which do you think is more meaningful, the loss or the accuracy?\n",
        "\n",
        "3) Suggest an improvement to one of the models (changing structure, learning rate, number of epochs, etc.) that you think will result in a better model.  Try it out below?  Did it improve the performance?"
      ]
    },
    {
      "cell_type": "code",
      "execution_count": null,
      "metadata": {
        "id": "6vKdUNogCSc7"
      },
      "outputs": [],
      "source": []
    },
    {
      "cell_type": "code",
      "execution_count": null,
      "metadata": {
        "id": "3-IS3L0jCSc7"
      },
      "outputs": [],
      "source": []
    },
    {
      "cell_type": "code",
      "execution_count": null,
      "metadata": {
        "id": "2IxAY9XLCSc7"
      },
      "outputs": [],
      "source": []
    }
  ],
  "metadata": {
    "colab": {
      "provenance": []
    },
    "kernelspec": {
      "display_name": "dl_env",
      "language": "python",
      "name": "dl_env"
    },
    "language_info": {
      "codemirror_mode": {
        "name": "ipython",
        "version": 3
      },
      "file_extension": ".py",
      "mimetype": "text/x-python",
      "name": "python",
      "nbconvert_exporter": "python",
      "pygments_lexer": "ipython3",
      "version": "3.10.13"
    }
  },
  "nbformat": 4,
  "nbformat_minor": 0
}
